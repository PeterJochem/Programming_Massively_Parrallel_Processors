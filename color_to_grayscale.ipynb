{
  "nbformat": 4,
  "nbformat_minor": 0,
  "metadata": {
    "colab": {
      "name": "color_to_grayscale.ipynb",
      "private_outputs": true,
      "provenance": []
    },
    "kernelspec": {
      "name": "python3",
      "display_name": "Python 3"
    },
    "language_info": {
      "name": "python"
    },
    "accelerator": "GPU"
  },
  "cells": [
    {
      "cell_type": "markdown",
      "metadata": {
        "id": "6G-_smZCTw0N"
      },
      "source": [
        "Step 1 is to setup the Google collab environment "
      ]
    },
    {
      "cell_type": "code",
      "metadata": {
        "id": "Lml6CqPfBfND"
      },
      "source": [
        "!apt-get --purge remove cuda nvidia* libnvidia-*\n",
        "!dpkg -l | grep cuda- | awk '{print $2}' | xargs -n1 dpkg --purge\n",
        "!apt-get remove cuda-*\n",
        "!apt autoremove\n",
        "!apt-get update\n",
        "!wget https://developer.nvidia.com/compute/cuda/9.2/Prod/local_installers/cuda-repo-ubuntu1604-9-2-local_9.2.88-1_amd64 -O cuda-repo-ubuntu1604-9-2-local_9.2.88-1_amd64.deb\n",
        "!dpkg -i cuda-repo-ubuntu1604-9-2-local_9.2.88-1_amd64.deb\n",
        "!apt-key add /var/cuda-repo-9-2-local/7fa2af80.pub\n",
        "!apt-get update\n",
        "!apt-get install cuda-9.2 \n",
        "!nvcc --version\n",
        "!pip install git+git://github.com/andreinechaev/nvcc4jupyter.git\n",
        "%load_ext nvcc_plugin\n",
        "from google.colab import drive\n",
        "drive.mount(\"/content/gdrive\")\n",
        "\n",
        "\n",
        "\n",
        "\n",
        "\n"
      ],
      "execution_count": null,
      "outputs": []
    },
    {
      "cell_type": "code",
      "metadata": {
        "id": "RUhvwFo3FCs7"
      },
      "source": [
        "%%writefile main.cu\n",
        "#include \"/usr/include/opencv2/opencv.hpp\"\n",
        "#include <iostream>\n",
        "#include <vector>\n",
        "using namespace cv;\n",
        "using namespace std;\n",
        "\n",
        "__global__ void to_grayscale(uchar* d_image, uchar* d_gray_image) { \n",
        "\n",
        "      int index = blockIdx.x;\n",
        "      \n",
        "      int red = d_image[index * 3 + 0];\n",
        "      int green = d_image[index * 3 + 1];\n",
        "      int blue = d_image[index * 3 + 2];\n",
        "      int new_pixel = (0.299 * red) + (0.587 * green) + (0.114 * blue);\n",
        "     \n",
        "      d_gray_image[index] = new_pixel;\n",
        "}\n",
        "\n",
        "\n",
        "int main(int argc, char** argv) {\n",
        "    \n",
        "  Mat h_input_image = imread(\"/content/gdrive/MyDrive/wec.jpg\");\n",
        "  Mat h_im_gray = imread(\"/content/gdrive/MyDrive/wec.jpg\", CV_LOAD_IMAGE_GRAYSCALE);\n",
        "  \n",
        "  // Convert the OpenCV matrixes to vectors\n",
        "  vector<uchar> h_input_image_array(h_input_image.rows * h_input_image.cols * h_input_image.channels());\n",
        "  h_input_image_array.assign(h_input_image.data, h_input_image.data + h_input_image.total() * h_input_image.channels());\n",
        "\n",
        "  vector<uchar> h_im_gray_array(h_im_gray.rows * h_im_gray.cols * h_im_gray.channels());\n",
        "  h_im_gray_array.assign(h_im_gray.data, h_im_gray.data + h_im_gray.total() * h_im_gray.channels());\n",
        " \n",
        "  uchar* d_image;\n",
        "  uchar* d_im_gray;\n",
        "\n",
        "  size_t color_sizeInBytes = h_input_image_array.size() * sizeof(uchar);\n",
        "  size_t grayscale_sizeInBytes = h_im_gray_array.size() * sizeof(uchar);\n",
        "\n",
        "  cudaMalloc((void**)&d_image, color_sizeInBytes);\n",
        "  cudaMalloc((void**)&d_im_gray, grayscale_sizeInBytes);\n",
        " \n",
        "  cudaMemcpy(d_image, h_input_image_array.data(), color_sizeInBytes, cudaMemcpyHostToDevice);\n",
        "  \n",
        "  dim3 grid(h_input_image.rows * h_input_image.cols, 1, 1);\n",
        "  to_grayscale<<<grid, 1>>>(d_image, d_im_gray);\n",
        "\n",
        "  cudaMemcpy(h_im_gray.data, d_im_gray, grayscale_sizeInBytes, cudaMemcpyDeviceToHost);\n",
        "  imwrite(\"/content/gdrive/MyDrive/processed_image.jpg\", h_im_gray);\n",
        "}"
      ],
      "execution_count": null,
      "outputs": []
    },
    {
      "cell_type": "code",
      "metadata": {
        "id": "4jFAt55kFJY_"
      },
      "source": [
        "%%script bash\n",
        "nvcc main.cu -o main.cu `pkg-config --cflags --libs opencv`"
      ],
      "execution_count": null,
      "outputs": []
    },
    {
      "cell_type": "code",
      "metadata": {
        "id": "YPafwD3IFR5B"
      },
      "source": [
        "%%script bash\n",
        "./main.cu"
      ],
      "execution_count": null,
      "outputs": []
    },
    {
      "cell_type": "code",
      "metadata": {
        "id": "WYolptz_FWSn"
      },
      "source": [
        "import cv2 as cv\n",
        "import matplotlib.pyplot as plt\n",
        "img = cv.imread('/content/gdrive/MyDrive/processed_image.jpg')\n",
        "plt.imshow(img)"
      ],
      "execution_count": null,
      "outputs": []
    },
    {
      "cell_type": "markdown",
      "metadata": {
        "id": "ZZdTti6yFYWd"
      },
      "source": [
        "/* Define the kernel function*/\n",
        "\n",
        "\n",
        "/* Load an image */\n",
        "\n",
        "/* Allocate storage on the GPU */\n",
        "/* CPU copies data from CPU -> GPU */\n",
        "/* Launch kernels*/\n",
        "/* CPU copies results from the GPU back to the CPU */\n",
        "\n",
        "\n",
        "\n",
        "\n",
        "\n",
        "\n",
        "\n",
        "\n",
        "\n"
      ]
    }
  ]
}