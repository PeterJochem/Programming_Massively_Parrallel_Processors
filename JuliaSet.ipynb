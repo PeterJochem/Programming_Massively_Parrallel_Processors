{
  "nbformat": 4,
  "nbformat_minor": 0,
  "metadata": {
    "colab": {
      "name": "JuliaSet.ipynb",
      "private_outputs": true,
      "provenance": []
    },
    "kernelspec": {
      "name": "python3",
      "display_name": "Python 3"
    },
    "language_info": {
      "name": "python"
    },
    "accelerator": "GPU"
  },
  "cells": [
    {
      "cell_type": "markdown",
      "metadata": {
        "id": "OSF-QtqCKzm3"
      },
      "source": [
        "# Step 1 is to setup the Google collab environment "
      ]
    },
    {
      "cell_type": "code",
      "metadata": {
        "id": "QzXS5kcfKv1p"
      },
      "source": [
        "!apt-get --purge remove cuda nvidia* libnvidia-*\n",
        "!dpkg -l | grep cuda- | awk '{print $2}' | xargs -n1 dpkg --purge\n",
        "!apt-get remove cuda-*\n",
        "!apt autoremove\n",
        "!apt-get update\n",
        "!wget https://developer.nvidia.com/compute/cuda/9.2/Prod/local_installers/cuda-repo-ubuntu1604-9-2-local_9.2.88-1_amd64 -O cuda-repo-ubuntu1604-9-2-local_9.2.88-1_amd64.deb\n",
        "!dpkg -i cuda-repo-ubuntu1604-9-2-local_9.2.88-1_amd64.deb\n",
        "!apt-key add /var/cuda-repo-9-2-local/7fa2af80.pub\n",
        "!apt-get update\n",
        "!apt-get install cuda-9.2 \n",
        "!nvcc --version\n",
        "!pip install git+git://github.com/andreinechaev/nvcc4jupyter.git\n",
        "%load_ext nvcc_plugin\n",
        "from google.colab import drive\n",
        "drive.mount(\"/content/gdrive\")\n"
      ],
      "execution_count": null,
      "outputs": []
    },
    {
      "cell_type": "code",
      "metadata": {
        "id": "ZHm0Ull_K5XI"
      },
      "source": [
        "%%writefile main.cu\n",
        "#include \"/usr/include/opencv2/opencv.hpp\"\n",
        "#include <iostream>\n",
        "#include <vector>\n",
        "using namespace cv;\n",
        "using namespace std;\n",
        "\n",
        "#define DIM 1000\n",
        "\n",
        "struct cuComplex { \n",
        "    \n",
        "  float r;\n",
        "  float i;\n",
        "  __device__ cuComplex(float a, float b): r(a), i(b) {}\n",
        "\n",
        "  __device__ float magnitude(void) {\n",
        "      return r * r + i * i;\n",
        "  }\n",
        "  __device__ cuComplex operator*(cuComplex& a) {\n",
        "      return cuComplex(r * a.r - i*a.i, i * a.r + r*a.i);\n",
        "  }\n",
        "\n",
        "  __device__ cuComplex operator+(const cuComplex& a) {\n",
        "      return cuComplex(r + a.r, i + a.i);\n",
        "  }\n",
        "};\n",
        "\n",
        "\n",
        "__device__  bool is_in_julia_set(int x, int y) {\n",
        "\n",
        "  const float scale = 1.5;\n",
        "  float cx = scale * (float) (DIM/2 - x) / (DIM/2); \n",
        "  float cy =  scale * (float) (DIM/2 - y) / (DIM/2);\n",
        "\n",
        "  cuComplex constant(-0.8, 0.156);\n",
        "  cuComplex c(cx, cy);\n",
        "\n",
        "  for (int i = 0; i < 200; i++) {\n",
        "\n",
        "      c = (c * c) + constant;\n",
        "      if (c.magnitude() > 10000) {\n",
        "          return false;\n",
        "      }\n",
        "  }\n",
        "\n",
        "  return true;\n",
        "}\n",
        "\n",
        "__global__ void kernel(uchar* d_grid) { \n",
        "\n",
        "  int x, y;\n",
        "  x = blockIdx.x;\n",
        "  y = blockIdx.y;\n",
        "  int index = x + (y * DIM);\n",
        "\n",
        "  if (is_in_julia_set(x, y)){ \n",
        "      d_grid[index] = (uchar)0;\n",
        "  }\n",
        "  else {\n",
        "      d_grid[index] = (uchar)255;\n",
        "  }\n",
        "}\n",
        "\n",
        "\n",
        "int main(int argc, char** argv) {\n",
        "  \n",
        "  int grid_size = sizeof(uchar) * DIM * DIM;\n",
        "  uchar* h_grid = (uchar*)malloc(grid_size);\n",
        "  uchar* d_grid;\n",
        "\n",
        "  cudaMalloc((void**)&d_grid, grid_size);\n",
        "\n",
        "  dim3 grid(DIM, DIM, 1);\n",
        "  kernel<<<grid, 1>>>(d_grid);\n",
        "\n",
        "  cudaDeviceSynchronize();\n",
        "  cudaMemcpy(h_grid, d_grid, grid_size, cudaMemcpyDeviceToHost);\n",
        "\n",
        "  cudaFree(d_grid);\n",
        "  \n",
        "  Mat image = Mat(DIM, DIM, CV_8UC1, h_grid);\n",
        "  imwrite(\"julia_set.jpg\", image);\n",
        "}"
      ],
      "execution_count": null,
      "outputs": []
    },
    {
      "cell_type": "code",
      "metadata": {
        "id": "m1pvRcjZLBf6"
      },
      "source": [
        "%%script bash\n",
        "nvcc main.cu -o main.cu `pkg-config --cflags --libs opencv`"
      ],
      "execution_count": null,
      "outputs": []
    },
    {
      "cell_type": "code",
      "metadata": {
        "id": "m_1D8cWELDok"
      },
      "source": [
        "%%script bash\n",
        "./main.cu"
      ],
      "execution_count": null,
      "outputs": []
    },
    {
      "cell_type": "code",
      "metadata": {
        "id": "DTEvh_2_LF1b"
      },
      "source": [
        "import cv2 as cv\n",
        "import matplotlib.pyplot as plt\n",
        "img = cv.imread('julia_set.jpg')\n",
        "plt.imshow(img)"
      ],
      "execution_count": null,
      "outputs": []
    }
  ]
}